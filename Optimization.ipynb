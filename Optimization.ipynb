{
 "cells": [
  {
   "cell_type": "code",
   "execution_count": 5,
   "metadata": {},
   "outputs": [
    {
     "name": "stderr",
     "output_type": "stream",
     "text": [
      "/anaconda3/lib/python3.6/site-packages/h5py/__init__.py:36: FutureWarning: Conversion of the second argument of issubdtype from `float` to `np.floating` is deprecated. In future, it will be treated as `np.float64 == np.dtype(float).type`.\n",
      "  from ._conv import register_converters as _register_converters\n"
     ]
    },
    {
     "name": "stdout",
     "output_type": "stream",
     "text": [
      "[1, 1, 0]\n"
     ]
    }
   ],
   "source": [
    "import tensorflow as tf\n",
    "import numpy as np\n",
    "d=3\n",
    "def tf_reset():\n",
    "    try:\n",
    "        sess.close()\n",
    "    except:\n",
    "        pass\n",
    "    tf.reset_default_graph()\n",
    "    return tf.Session()\n",
    "\n",
    "data = np.array([[1,3,1,1],[1,1,3,1],[1,1,0.5,-1]])\n",
    "\n",
    "#Manual Predictions\n",
    "v1 = np.array([[-1.0],[1.0],[-1.0]])\n",
    "v2 = np.array([[-1.0],[-1.0],[1.0]])\n",
    "w1 = np.array([[1.0]])\n",
    "w2 = np.array([[1.0]])\n",
    "prediction = []\n",
    "# give h=1 if row.dot(v1)>0 else give h=0\n",
    "for i in range(len(data)):\n",
    "    row = np.reshape(data[i,:3],(1,3))\n",
    "    h1 = 1 if row.dot(v1) > 0 else 0\n",
    "    h2 = 1 if row.dot(v2) > 0 else 0\n",
    "    prediction.append(1 if (h1*w1 + h2*w2)>0 else 0)\n",
    "\n",
    "prediction == data[:,3]\n",
    "print(prediction)"
   ]
  },
  {
   "cell_type": "code",
   "execution_count": 6,
   "metadata": {},
   "outputs": [],
   "source": [
    "out = np.array(data[:,3])\n",
    "out = np.reshape(out,(d,1))"
   ]
  },
  {
   "cell_type": "code",
   "execution_count": 7,
   "metadata": {},
   "outputs": [
    {
     "data": {
      "text/plain": [
       "array([[1., 1., 3.]])"
      ]
     },
     "execution_count": 7,
     "metadata": {},
     "output_type": "execute_result"
    }
   ],
   "source": [
    "np.reshape(data[1,:3],(1,3))"
   ]
  },
  {
   "cell_type": "code",
   "execution_count": 8,
   "metadata": {},
   "outputs": [
    {
     "name": "stdout",
     "output_type": "stream",
     "text": [
      "MSE for l=0.01 0.0013147265\n",
      "MSE for l=0.1 2.0937325e-12\n",
      "MSE for l=0.3 2.5105842e-13\n",
      "MSE for l=1.3 0.6669497\n"
     ]
    }
   ],
   "source": [
    "\n",
    "\n",
    "sess =tf_reset()\n",
    "input_ph= tf.placeholder(dtype=tf.float32,shape=[None,3])\n",
    "output_ph= tf.placeholder(dtype=tf.float32,shape=[None,1])\n",
    "v1=tf.get_variable(name='v1',shape=[3,1],initializer=tf.initializers.random_normal())\n",
    "v2=tf.get_variable(name='v2',shape=[3,1],initializer=tf.initializers.random_normal())\n",
    "w1=tf.get_variable(name='w1',shape=[1,1],initializer=tf.initializers.random_normal())\n",
    "w2=tf.get_variable(name='w2',shape=[1,1],initializer=tf.initializers.random_normal())\n",
    "#v1=tf.get_variable(name='v1',initializer=v1)\n",
    "\n",
    "h1=tf.sigmoid(tf.matmul(input_ph,v1))\n",
    "h2=tf.sigmoid(tf.matmul(input_ph,v2))\n",
    "\n",
    "tmp1=tf.matmul(h1,w1)\n",
    "tmp2=tf.matmul(h2,w2)\n",
    "f=tf.add(tmp1,tmp2)\n",
    "sess.run(tf.global_variables_initializer())\n",
    "loss=tf.reduce_mean(tf.square(f-output_ph))\n",
    "\n",
    "\n",
    "# for learning rate=0.01\n",
    "opt1=tf.train.GradientDescentOptimizer(learning_rate=0.01).minimize(loss)\n",
    "inp=sess.run([input_ph],feed_dict={input_ph:data[:,:3]})\n",
    "\n",
    "for i in range(2000):\n",
    "    _,mse1 =sess.run([opt1,loss],feed_dict={input_ph:data[:,:3],output_ph:out})\n",
    "\n",
    "print(\"MSE for l=0.01\",mse1)\n",
    "#pred =sess.run([f],feed_dict={input_ph:data[:,:3]})\n",
    "#print(pred)\n",
    "\n",
    "\n",
    "# for learning rate=0.1\n",
    "opt2=tf.train.GradientDescentOptimizer(learning_rate=0.1).minimize(loss)\n",
    "inp=sess.run([input_ph],feed_dict={input_ph:data[:,:3]})\n",
    "for i in range(2000):\n",
    "    _,mse2=sess.run([opt2,loss],feed_dict={input_ph:data[:,:3],output_ph:out})\n",
    "\n",
    "print(\"MSE for l=0.1\",mse2)\n",
    "#pred =sess.run([f],feed_dict={input_ph:data[:,:3]})\n",
    "#print(pred)\n",
    "\n",
    "# for learning rate=0.3\n",
    "opt3=tf.train.GradientDescentOptimizer(learning_rate=0.3).minimize(loss)\n",
    "inp=sess.run([input_ph],feed_dict={input_ph:data[:,:3]})\n",
    "for i in range(2000):\n",
    "    _,mse3 =sess.run([opt3,loss],feed_dict={input_ph:data[:,:3],output_ph:out})\n",
    "\n",
    "print(\"MSE for l=0.3\",mse3)\n",
    "#pred =sess.run([f],feed_dict={input_ph:data[:,:3]})\n",
    "#print(pred)\n",
    "\n",
    "\n",
    "# for learning rate=1.3\n",
    "opt4=tf.train.GradientDescentOptimizer(learning_rate=1.3).minimize(loss)\n",
    "inp=sess.run([input_ph],feed_dict={input_ph:data[:,:3]})\n",
    "for i in range(2000):\n",
    "    _,mse4 =sess.run([opt4,loss],feed_dict={input_ph:data[:,:3],output_ph:out})\n",
    "\n",
    "\n",
    "print(\"MSE for l=1.3\",mse4)\n",
    "#pred =sess.run([f],feed_dict={input_ph:data[:,:3]})\n",
    "#print(pred)\n",
    "\n"
   ]
  },
  {
   "cell_type": "raw",
   "metadata": {},
   "source": [
    "The mean square error is high at learning rate=1.3  and low at 0.1 .Ideal learning rate is 0.1 for the data given."
   ]
  },
  {
   "cell_type": "code",
   "execution_count": 10,
   "metadata": {},
   "outputs": [
    {
     "name": "stdout",
     "output_type": "stream",
     "text": [
      "MSE for 100 iterations 0.6669484\n"
     ]
    }
   ],
   "source": [
    "#For each of the following the number of iterations to 100,500,1000,1500,2000,3000 display and compare the final result.\n",
    "\n",
    "#For learning rate =0.1\n",
    "opt=tf.train.GradientDescentOptimizer(learning_rate=0.1).minimize(loss)\n",
    "for i in range(100):\n",
    "    _,mse =sess.run([opt,loss],feed_dict={input_ph:data[:,:3],output_ph:out})\n",
    "\n",
    "print(\"MSE for 100 iterations\",mse)"
   ]
  },
  {
   "cell_type": "code",
   "execution_count": 11,
   "metadata": {},
   "outputs": [
    {
     "name": "stdout",
     "output_type": "stream",
     "text": [
      "MSE for 500 iterations 0.66694313\n"
     ]
    }
   ],
   "source": [
    "\n",
    "for i in range(500):\n",
    "    _,mse =sess.run([opt,loss],feed_dict={input_ph:data[:,:3],output_ph:out})\n",
    "\n",
    "print(\"MSE for 500 iterations\",mse)"
   ]
  },
  {
   "cell_type": "code",
   "execution_count": 12,
   "metadata": {},
   "outputs": [
    {
     "name": "stdout",
     "output_type": "stream",
     "text": [
      "MSE for 1000 iterations 0.6669331\n"
     ]
    }
   ],
   "source": [
    "\n",
    "for k in range(1000):\n",
    "    _,mse =sess.run([opt,loss],feed_dict={input_ph:data[:,:3],output_ph:out})\n",
    "\n",
    "print(\"MSE for 1000 iterations\",mse)"
   ]
  },
  {
   "cell_type": "code",
   "execution_count": 13,
   "metadata": {},
   "outputs": [
    {
     "name": "stdout",
     "output_type": "stream",
     "text": [
      "MSE for 1500 iterations 0.66691947\n"
     ]
    }
   ],
   "source": [
    "\n",
    "for a in range(1500):\n",
    "    _,mse =sess.run([opt,loss],feed_dict={input_ph:data[:,:3],output_ph:out})\n",
    "\n",
    "print(\"MSE for 1500 iterations\",mse)"
   ]
  },
  {
   "cell_type": "code",
   "execution_count": 15,
   "metadata": {},
   "outputs": [
    {
     "name": "stdout",
     "output_type": "stream",
     "text": [
      "MSE for 2000 iterations 0.6668888\n"
     ]
    }
   ],
   "source": [
    "\n",
    "for i in range(2000):\n",
    "    _,mse =sess.run([opt,loss],feed_dict={input_ph:data[:,:3],output_ph:out})\n",
    "\n",
    "print(\"MSE for 2000 iterations\",mse)"
   ]
  },
  {
   "cell_type": "code",
   "execution_count": 16,
   "metadata": {
    "scrolled": true
   },
   "outputs": [
    {
     "name": "stdout",
     "output_type": "stream",
     "text": [
      "MSE for 3000 iterations 0.66687036\n"
     ]
    }
   ],
   "source": [
    "\n",
    "for i in range(3000):\n",
    "    _,mse =sess.run([opt,loss],feed_dict={input_ph:data[:,:3],output_ph:out})\n",
    "\n",
    "print(\"MSE for 3000 iterations\",mse)"
   ]
  },
  {
   "cell_type": "raw",
   "metadata": {},
   "source": [
    "There is no significant change in mean square error even when the number of iterations increased from 100 till 3000."
   ]
  },
  {
   "cell_type": "code",
   "execution_count": null,
   "metadata": {},
   "outputs": [],
   "source": []
  }
 ],
 "metadata": {
  "kernelspec": {
   "display_name": "Python 3",
   "language": "python",
   "name": "python3"
  },
  "language_info": {
   "codemirror_mode": {
    "name": "ipython",
    "version": 3
   },
   "file_extension": ".py",
   "mimetype": "text/x-python",
   "name": "python",
   "nbconvert_exporter": "python",
   "pygments_lexer": "ipython3",
   "version": "3.6.5"
  }
 },
 "nbformat": 4,
 "nbformat_minor": 2
}
